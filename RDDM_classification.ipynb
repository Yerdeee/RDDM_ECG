{
 "cells": [
  {
   "cell_type": "code",
   "execution_count": 1,
   "id": "eb3e2a4f-9292-44ad-9e6f-969acd736b08",
   "metadata": {},
   "outputs": [
    {
     "name": "stdout",
     "output_type": "stream",
     "text": [
      "Deterministic with seed = 31\n"
     ]
    },
    {
     "name": "stderr",
     "output_type": "stream",
     "text": [
      "100%|█████████████████████████████████████████████████████████████████████████████████████████████████████████████████████████████████████████████████████████████████████████████████████████████████████████████████████████████████████████████████████| 1337/1337 [22:47<00:00,  1.02s/it]"
     ]
    },
    {
     "name": "stdout",
     "output_type": "stream",
     "text": [
      "----data setting with diffusion 완료----\n",
      "torch.Size([21388])\n"
     ]
    },
    {
     "name": "stderr",
     "output_type": "stream",
     "text": [
      "\n"
     ]
    }
   ],
   "source": [
    "from data_withdiffusion import get_dataset_withdiffusion\n",
    "train_loader, val_loader, test_loader = get_dataset_withdiffusion(MODEL_PATH = '/cap/RDDM-main/hsh/ECG2ECG_FINAL/LEAD1TO', DATA_PATH = '/cap/RDDM-main/datasets/', only_one=True)#, lead_num=[2,3,4,5,6,7,8,9,10,11,12])#, no_diffusion=True)"
   ]
  },
  {
   "cell_type": "markdown",
   "id": "3fbf07f9-290e-4fb0-8334-6fa818f99c1e",
   "metadata": {},
   "source": [
    "### CNN model"
   ]
  },
  {
   "cell_type": "code",
   "execution_count": 2,
   "id": "14dae088-fade-4214-aeef-690acb3e713e",
   "metadata": {
    "jupyter": {
     "source_hidden": true
    }
   },
   "outputs": [],
   "source": [
    "import torch\n",
    "import torch.nn as nn\n",
    "import torch.optim as optim\n",
    "from torch.utils.data import DataLoader\n",
    "from sklearn.metrics import roc_auc_score, f1_score, accuracy_score\n",
    "import numpy as np\n",
    "import matplotlib.pyplot as plt\n",
    "\n",
    "class SignalClassifier1DCNN(nn.Module):\n",
    "    def __init__(self, n_channels=12, num_classes=5):\n",
    "        super(SignalClassifier1DCNN, self).__init__()\n",
    "        \n",
    "        # 첫 번째 컨볼루션 블록\n",
    "        self.conv1 = nn.Sequential(\n",
    "            nn.Conv1d(in_channels=n_channels, out_channels=32, kernel_size=7, stride=2, padding=3),\n",
    "            nn.Dropout(0.2),\n",
    "            nn.BatchNorm1d(32),\n",
    "            nn.ReLU(),\n",
    "            nn.MaxPool1d(kernel_size=3, stride=2, padding=1)\n",
    "        )\n",
    "        \n",
    "        # 두 번째 컨볼루션 블록\n",
    "        self.conv2 = nn.Sequential(\n",
    "            nn.Conv1d(in_channels=32, out_channels=64, kernel_size=5, stride=1, padding=2),\n",
    "            nn.Dropout(0.2),\n",
    "            nn.BatchNorm1d(64),\n",
    "            nn.ReLU(),\n",
    "            nn.MaxPool1d(kernel_size=3, stride=2, padding=1)\n",
    "        )\n",
    "        \n",
    "        # 세 번째 컨볼루션 블록\n",
    "        self.conv3 = nn.Sequential(\n",
    "            nn.Conv1d(in_channels=64, out_channels=128, kernel_size=3, stride=1, padding=1),\n",
    "            nn.Dropout(0.2),\n",
    "            nn.BatchNorm1d(128),\n",
    "            nn.ReLU(),\n",
    "            nn.MaxPool1d(kernel_size=3, stride=2, padding=1)\n",
    "        )\n",
    "        \n",
    "        # 네 번째 컨볼루션 블록\n",
    "        # self.conv4 = nn.Sequential(\n",
    "        #     nn.Conv1d(in_channels=128, out_channels=256, kernel_size=3, stride=1, padding=1),\n",
    "        #     nn.Dropout(0.2),\n",
    "        #     nn.BatchNorm1d(256),\n",
    "        #     nn.ReLU(),\n",
    "        #     nn.MaxPool1d(kernel_size=3, stride=2, padding=1)\n",
    "        # )\n",
    "        \n",
    "        # 적응형 풀링으로 출력 크기 고정\n",
    "        self.adaptive_pool = nn.AdaptiveAvgPool1d(1)\n",
    "        \n",
    "        # 분류를 위한 완전 연결 레이어\n",
    "        self.classifier = nn.Sequential(\n",
    "            nn.Linear(128, 64),  # 256 → 64 노드 감소\n",
    "            nn.ReLU(),\n",
    "            nn.Linear(64, num_classes)\n",
    "        )\n",
    "    \n",
    "    def forward(self, x):\n",
    "        # 입력 형태: [batch_size, n_channels, signal_length]\n",
    "        x = self.conv1(x)\n",
    "        x = self.conv2(x)\n",
    "        x = self.conv3(x)\n",
    "        #x = self.conv4(x)\n",
    "        \n",
    "        # 전역 평균 풀링\n",
    "        x = self.adaptive_pool(x)\n",
    "        x = x.view(x.size(0), -1)  # 평탄화\n",
    "        \n",
    "        # 분류\n",
    "        x = self.classifier(x)\n",
    "        return x\n"
   ]
  },
  {
   "cell_type": "code",
   "execution_count": 3,
   "id": "69595036-726d-41f3-bbf3-88fe709ee8d3",
   "metadata": {},
   "outputs": [],
   "source": [
    "import torch\n",
    "import torch.nn as nn\n",
    "import torch.optim as optim\n",
    "from torch.utils.data import DataLoader\n",
    "from sklearn.metrics import roc_auc_score, f1_score, accuracy_score\n",
    "import numpy as np\n",
    "import matplotlib.pyplot as plt\n",
    "\n",
    "class ECG_CNN(nn.Module):\n",
    "    def __init__(self, num_classes):\n",
    "        super().__init__()\n",
    "        self.conv = nn.Sequential(\n",
    "            nn.Conv2d(1, 32, kernel_size=(3, 5), stride=1, padding=(1, 2)),\n",
    "            nn.BatchNorm2d(32),\n",
    "            nn.ReLU(),\n",
    "            nn.MaxPool2d((1, 2)),\n",
    "            nn.Conv2d(32, 64, kernel_size=(3, 5), padding=(1, 2)),\n",
    "            nn.BatchNorm2d(64),\n",
    "            nn.ReLU(),\n",
    "            nn.AdaptiveMaxPool2d((1, 10))\n",
    "        )\n",
    "        self.classifier = nn.Sequential(\n",
    "            nn.Flatten(),\n",
    "            nn.Linear(64 * 1 * 10, 128),\n",
    "            nn.ReLU(),\n",
    "            nn.Dropout(0.3),\n",
    "            nn.Linear(128, num_classes)\n",
    "        )\n",
    "\n",
    "    def forward(self, x):\n",
    "        x = x.unsqueeze(1)  # (B, 1, 12, 1280)\n",
    "        x = self.conv(x)\n",
    "        return self.classifier(x)"
   ]
  },
  {
   "cell_type": "code",
   "execution_count": 4,
   "id": "bae67b70-12dc-4934-8284-7eb065f871bd",
   "metadata": {
    "jupyter": {
     "source_hidden": true
    }
   },
   "outputs": [],
   "source": [
    "# 학습 함수\n",
    "import tqdm\n",
    "def train_model(model, train_loader, val_loader, criterion, optimizer, scheduler, num_epochs=50, patience=10):\n",
    "    best_val_loss = float('inf')\n",
    "    best_model_weights = None\n",
    "    early_stop_counter = 0\n",
    "    \n",
    "    train_losses = []\n",
    "    val_losses = []\n",
    "    \n",
    "    for epoch in range(num_epochs):\n",
    "        # 학습 모드\n",
    "        model.train()\n",
    "        running_loss = 0.0\n",
    "        \n",
    "        for inputs, labels in train_loader:\n",
    "            # 입력 데이터 형태: [batch_size, n_channels, signal_length]\n",
    "            optimizer.zero_grad()\n",
    "            \n",
    "            outputs = model(inputs)\n",
    "            loss = criterion(outputs, labels.to(torch.long))\n",
    "            loss.backward()\n",
    "            optimizer.step()\n",
    "            \n",
    "            running_loss += loss.item() * inputs.size(0)\n",
    "        \n",
    "        epoch_train_loss = running_loss / len(train_loader.dataset)\n",
    "        train_losses.append(epoch_train_loss)\n",
    "        \n",
    "        # 검증 모드\n",
    "        model.eval()\n",
    "        running_val_loss = 0.0\n",
    "        \n",
    "        with torch.no_grad():\n",
    "            for inputs, labels in val_loader:\n",
    "                outputs = model(inputs)\n",
    "                loss = criterion(outputs, labels.to(torch.long))\n",
    "                running_val_loss += loss.item() * inputs.size(0)\n",
    "        \n",
    "        epoch_val_loss = running_val_loss / len(val_loader.dataset)\n",
    "        val_losses.append(epoch_val_loss)\n",
    "        \n",
    "        # 학습률 조정\n",
    "        scheduler.step(epoch_val_loss)\n",
    "        \n",
    "        print(f'Epoch {epoch+1}/{num_epochs}, Train Loss: {epoch_train_loss:.4f}, Val Loss: {epoch_val_loss:.4f}')\n",
    "        \n",
    "        # 최적 모델 저장 및 조기 종료 확인\n",
    "        if epoch_val_loss < best_val_loss:\n",
    "            best_val_loss = epoch_val_loss\n",
    "            best_model_weights = model.state_dict().copy()\n",
    "            early_stop_counter = 0\n",
    "        else:\n",
    "            early_stop_counter += 1\n",
    "            if early_stop_counter >= patience:\n",
    "                print(f'Early stopping triggered after {epoch+1} epochs')\n",
    "                break\n",
    "    \n",
    "    # 최적 모델 복원\n",
    "    model.load_state_dict(best_model_weights)\n",
    "    return model, train_losses, val_losses\n",
    "\n",
    "# 평가 함수 (ROC, F1, Accuracy 계산)\n",
    "def evaluate_model(model, test_loader, num_classes=5):\n",
    "    model.eval()\n",
    "    all_preds = []\n",
    "    all_labels = []\n",
    "    all_probs = []\n",
    "    \n",
    "    with torch.no_grad():\n",
    "        for inputs, labels in test_loader:\n",
    "            outputs = model(inputs)\n",
    "            _, preds = torch.max(outputs, 1)\n",
    "            probs = torch.nn.functional.softmax(outputs, dim=1)\n",
    "            \n",
    "            all_preds.extend(preds.cpu().numpy())\n",
    "            all_labels.extend(labels.to(torch.long).cpu().numpy())\n",
    "            all_probs.extend(probs.cpu().numpy())\n",
    "    \n",
    "    # 성능 지표 계산\n",
    "    accuracy = accuracy_score(all_labels, all_preds)\n",
    "    \n",
    "    # 다중 클래스 F1 스코어 (macro 평균)\n",
    "    f1 = f1_score(all_labels, all_preds, average='macro')\n",
    "    \n",
    "    # 다중 클래스 ROC AUC (one-vs-rest 방식)\n",
    "    all_probs = np.array(all_probs)\n",
    "    all_labels_one_hot = np.zeros((len(all_labels), num_classes))\n",
    "    for i, label in enumerate(all_labels):\n",
    "        all_labels_one_hot[i, label] = 1\n",
    "    \n",
    "    roc_auc = roc_auc_score(all_labels_one_hot, all_probs, multi_class='ovr')\n",
    "    \n",
    "    print(f'Accuracy: {accuracy:.4f}')\n",
    "    print(f'F1 Score (Macro): {f1:.4f}')\n",
    "    print(f'ROC AUC (OVR): {roc_auc:.4f}')\n",
    "    \n",
    "    return accuracy, f1, roc_auc\n"
   ]
  },
  {
   "cell_type": "markdown",
   "id": "7d108a70-fe90-4aaa-b659-9553359491b0",
   "metadata": {},
   "source": [
    "### 실행 코드"
   ]
  },
  {
   "cell_type": "code",
   "execution_count": 5,
   "id": "971e23a5-38a5-4402-9d0a-aa8fd0a5dd0e",
   "metadata": {
    "jupyter": {
     "source_hidden": true
    }
   },
   "outputs": [],
   "source": [
    "def run_experiment(n_channels=1, batch_size=16, learning_rate=0.001, num_epochs=50):\n",
    "    # 모델 초기화\n",
    "    model = ECG_CNN(num_classes=5)\n",
    "    #n_channels=n_channels, \n",
    "    # 손실 함수 및 옵티마이저 설정\n",
    "    criterion = nn.CrossEntropyLoss()\n",
    "    #optimizer = optim.AdamW(model.parameters(), lr=1e-4, weight_decay=1e-5)\n",
    "    #scheduler = optim.lr_scheduler.CosineAnnealingWarmRestarts(optimizer, T_0=10, T_mult=2)\n",
    "    optimizer = optim.Adam(model.parameters(), lr=learning_rate)\n",
    "    scheduler = optim.lr_scheduler.ReduceLROnPlateau(optimizer, mode='min', factor=0.5, patience=5)\n",
    "\n",
    "    # 모델 학습\n",
    "    trained_model, train_losses, val_losses = train_model(\n",
    "        model, train_loader, val_loader, criterion, optimizer, scheduler, num_epochs=num_epochs\n",
    "    )\n",
    "    \n",
    "    # 모델 평가\n",
    "    accuracy, f1, roc_auc = evaluate_model(trained_model, test_loader)\n",
    "    \n",
    "    # 학습 곡선 시각화\n",
    "    plt.figure(figsize=(10, 5))\n",
    "    plt.plot(train_losses, label='Training Loss')\n",
    "    plt.plot(val_losses, label='Validation Loss')\n",
    "    plt.xlabel('Epochs')\n",
    "    plt.ylabel('Loss')\n",
    "    plt.title(f'Learning Curves (n_channels={n_channels})')\n",
    "    plt.legend()\n",
    "    plt.grid(True)\n",
    "    plt.savefig(f'learning_curves_n{n_channels}.png')\n",
    "    plt.show()\n",
    "    \n",
    "    return trained_model, accuracy, f1, roc_auc\n"
   ]
  },
  {
   "cell_type": "code",
   "execution_count": 6,
   "id": "b6904a4e-f166-435d-b54c-569d4c405dbf",
   "metadata": {
    "jupyter": {
     "source_hidden": true
    },
    "scrolled": true
   },
   "outputs": [
    {
     "name": "stdout",
     "output_type": "stream",
     "text": [
      "Epoch 1/50, Train Loss: 1.2873, Val Loss: 1.1803\n",
      "Epoch 2/50, Train Loss: 1.2026, Val Loss: 1.1754\n",
      "Epoch 3/50, Train Loss: 1.1844, Val Loss: 1.1688\n",
      "Epoch 4/50, Train Loss: 1.1760, Val Loss: 1.1665\n",
      "Epoch 5/50, Train Loss: 1.1723, Val Loss: 1.1719\n",
      "Epoch 6/50, Train Loss: 1.1625, Val Loss: 1.1509\n",
      "Epoch 7/50, Train Loss: 1.1610, Val Loss: 1.1482\n",
      "Epoch 8/50, Train Loss: 1.1558, Val Loss: 1.1451\n",
      "Epoch 9/50, Train Loss: 1.1517, Val Loss: 1.1486\n",
      "Epoch 10/50, Train Loss: 1.1501, Val Loss: 1.1593\n",
      "Epoch 11/50, Train Loss: 1.1452, Val Loss: 1.1442\n",
      "Epoch 12/50, Train Loss: 1.1381, Val Loss: 1.1354\n",
      "Epoch 13/50, Train Loss: 1.1369, Val Loss: 1.1287\n",
      "Epoch 14/50, Train Loss: 1.1357, Val Loss: 1.1371\n",
      "Epoch 15/50, Train Loss: 1.1303, Val Loss: 1.1299\n",
      "Epoch 16/50, Train Loss: 1.1292, Val Loss: 1.1280\n",
      "Epoch 17/50, Train Loss: 1.1271, Val Loss: 1.1277\n",
      "Epoch 18/50, Train Loss: 1.1258, Val Loss: 1.1401\n",
      "Epoch 19/50, Train Loss: 1.1266, Val Loss: 1.1455\n",
      "Epoch 20/50, Train Loss: 1.1197, Val Loss: 1.1523\n",
      "Epoch 21/50, Train Loss: 1.1232, Val Loss: 1.1312\n",
      "Epoch 22/50, Train Loss: 1.1200, Val Loss: 1.1414\n",
      "Epoch 23/50, Train Loss: 1.1156, Val Loss: 1.1297\n",
      "Epoch 24/50, Train Loss: 1.1013, Val Loss: 1.1098\n",
      "Epoch 25/50, Train Loss: 1.0979, Val Loss: 1.1099\n",
      "Epoch 26/50, Train Loss: 1.0960, Val Loss: 1.1080\n",
      "Epoch 27/50, Train Loss: 1.0960, Val Loss: 1.1108\n",
      "Epoch 28/50, Train Loss: 1.0955, Val Loss: 1.1100\n",
      "Epoch 29/50, Train Loss: 1.0941, Val Loss: 1.1068\n",
      "Epoch 30/50, Train Loss: 1.0905, Val Loss: 1.1074\n",
      "Epoch 31/50, Train Loss: 1.0894, Val Loss: 1.1133\n",
      "Epoch 32/50, Train Loss: 1.0880, Val Loss: 1.1147\n",
      "Epoch 33/50, Train Loss: 1.0872, Val Loss: 1.1082\n",
      "Epoch 34/50, Train Loss: 1.0844, Val Loss: 1.1121\n",
      "Epoch 35/50, Train Loss: 1.0856, Val Loss: 1.1069\n",
      "Epoch 36/50, Train Loss: 1.0745, Val Loss: 1.1071\n",
      "Epoch 37/50, Train Loss: 1.0717, Val Loss: 1.1026\n",
      "Epoch 38/50, Train Loss: 1.0729, Val Loss: 1.1026\n",
      "Epoch 39/50, Train Loss: 1.0697, Val Loss: 1.1038\n",
      "Epoch 40/50, Train Loss: 1.0724, Val Loss: 1.1034\n",
      "Epoch 41/50, Train Loss: 1.0727, Val Loss: 1.1098\n",
      "Epoch 42/50, Train Loss: 1.0678, Val Loss: 1.1035\n",
      "Epoch 43/50, Train Loss: 1.0696, Val Loss: 1.1049\n",
      "Epoch 44/50, Train Loss: 1.0674, Val Loss: 1.1042\n",
      "Epoch 45/50, Train Loss: 1.0621, Val Loss: 1.1057\n",
      "Epoch 46/50, Train Loss: 1.0621, Val Loss: 1.1031\n",
      "Epoch 47/50, Train Loss: 1.0609, Val Loss: 1.1049\n",
      "Epoch 48/50, Train Loss: 1.0618, Val Loss: 1.1064\n",
      "Early stopping triggered after 48 epochs\n",
      "Accuracy: 0.5985\n",
      "F1 Score (Macro): 0.4493\n",
      "ROC AUC (OVR): 0.7932\n"
     ]
    },
    {
     "data": {
      "image/png": "[encoded data removed]",
      "text/plain": [
       "<Figure size 1000x500 with 1 Axes>"
      ]
     },
     "metadata": {},
     "output_type": "display_data"
    },
    {
     "name": "stdout",
     "output_type": "stream",
     "text": [
      "acc : 0.5985043234400561, f1 : 0.44932050146968283, roc_auc : 0.7932217247087618\n"
     ]
    }
   ],
   "source": [
    "model, accuracy, f1, roc_auc = run_experiment(n_channels=12)\n",
    "\n",
    "print(f'acc : {accuracy}, f1 : {f1}, roc_auc : {roc_auc}')"
   ]
  },
  {
   "cell_type": "code",
   "execution_count": 7,
   "id": "dcba50c3-f4a3-4cc0-8681-538fb89d9dc6",
   "metadata": {},
   "outputs": [
    {
     "name": "stdout",
     "output_type": "stream",
     "text": [
      "torch.Size([16, 1, 1280]) torch.Size([16])\n"
     ]
    }
   ],
   "source": [
    "for x, j in train_loader :\n",
    "    print(x.shape, j.shape)\n",
    "    break"
   ]
  },
  {
   "cell_type": "code",
   "execution_count": 8,
   "id": "ba73de95-4af7-4b53-89a5-7e89e63c1391",
   "metadata": {},
   "outputs": [
    {
     "name": "stderr",
     "output_type": "stream",
     "text": [
      "                                                                                                                                                                                                                                                                                              "
     ]
    },
    {
     "name": "stdout",
     "output_type": "stream",
     "text": [
      "Validation loss improved. Resetting counter.\n",
      "[Epoch 1] Train Loss: 1.2631 | Val Loss: 1.1971 | Acc: 0.5279 | F1: 0.3165 | AUC: 0.7490\n"
     ]
    },
    {
     "name": "stderr",
     "output_type": "stream",
     "text": [
      "                                                                                                                                                                                                                                                                                              "
     ]
    },
    {
     "name": "stdout",
     "output_type": "stream",
     "text": [
      "Validation loss improved. Resetting counter.\n",
      "[Epoch 2] Train Loss: 1.1730 | Val Loss: 1.1687 | Acc: 0.5445 | F1: 0.3676 | AUC: 0.7560\n"
     ]
    },
    {
     "name": "stderr",
     "output_type": "stream",
     "text": [
      "                                                                                                                                                                                                                                                                                              "
     ]
    },
    {
     "name": "stdout",
     "output_type": "stream",
     "text": [
      "Validation loss improved. Resetting counter.\n",
      "[Epoch 3] Train Loss: 1.1518 | Val Loss: 1.1646 | Acc: 0.5483 | F1: 0.3856 | AUC: 0.7601\n"
     ]
    },
    {
     "name": "stderr",
     "output_type": "stream",
     "text": [
      "                                                                                                                                                                                                                                                                                              "
     ]
    },
    {
     "name": "stdout",
     "output_type": "stream",
     "text": [
      "Validation loss improved. Resetting counter.\n",
      "[Epoch 4] Train Loss: 1.1403 | Val Loss: 1.1644 | Acc: 0.5537 | F1: 0.3962 | AUC: 0.7631\n"
     ]
    },
    {
     "name": "stderr",
     "output_type": "stream",
     "text": [
      "                                                                                                                                                                                                                                                                                              "
     ]
    },
    {
     "name": "stdout",
     "output_type": "stream",
     "text": [
      "Validation loss improved. Resetting counter.\n",
      "[Epoch 5] Train Loss: 1.1349 | Val Loss: 1.1536 | Acc: 0.5539 | F1: 0.3973 | AUC: 0.7644\n"
     ]
    },
    {
     "name": "stderr",
     "output_type": "stream",
     "text": [
      "                                                                                                                                                                                                                                                                                              "
     ]
    },
    {
     "name": "stdout",
     "output_type": "stream",
     "text": [
      "Validation loss improved. Resetting counter.\n",
      "[Epoch 6] Train Loss: 1.1275 | Val Loss: 1.1419 | Acc: 0.5558 | F1: 0.3963 | AUC: 0.7674\n"
     ]
    },
    {
     "name": "stderr",
     "output_type": "stream",
     "text": [
      "                                                                                                                                                                                                                                                                                              "
     ]
    },
    {
     "name": "stdout",
     "output_type": "stream",
     "text": [
      "No improvement. Patience 1/7\n",
      "[Epoch 7] Train Loss: 1.1221 | Val Loss: 1.1454 | Acc: 0.5602 | F1: 0.4107 | AUC: 0.7666\n"
     ]
    },
    {
     "name": "stderr",
     "output_type": "stream",
     "text": [
      "                                                                                                                                                                                                                                                                                              "
     ]
    },
    {
     "name": "stdout",
     "output_type": "stream",
     "text": [
      "Validation loss improved. Resetting counter.\n",
      "[Epoch 8] Train Loss: 1.1187 | Val Loss: 1.1414 | Acc: 0.5611 | F1: 0.4113 | AUC: 0.7686\n"
     ]
    },
    {
     "name": "stderr",
     "output_type": "stream",
     "text": [
      "                                                                                                                                                                                                                                                                                              "
     ]
    },
    {
     "name": "stdout",
     "output_type": "stream",
     "text": [
      "No improvement. Patience 1/7\n",
      "[Epoch 9] Train Loss: 1.1162 | Val Loss: 1.1426 | Acc: 0.5614 | F1: 0.4069 | AUC: 0.7678\n"
     ]
    },
    {
     "name": "stderr",
     "output_type": "stream",
     "text": [
      "                                                                                                                                                                                                                                                                                              "
     ]
    },
    {
     "name": "stdout",
     "output_type": "stream",
     "text": [
      "Validation loss improved. Resetting counter.\n",
      "[Epoch 10] Train Loss: 1.1120 | Val Loss: 1.1277 | Acc: 0.5661 | F1: 0.4225 | AUC: 0.7714\n"
     ]
    },
    {
     "name": "stderr",
     "output_type": "stream",
     "text": [
      "                                                                                                                                                                                                                                                                                              "
     ]
    },
    {
     "name": "stdout",
     "output_type": "stream",
     "text": [
      "No improvement. Patience 1/7\n",
      "[Epoch 11] Train Loss: 1.1081 | Val Loss: 1.1291 | Acc: 0.5668 | F1: 0.4205 | AUC: 0.7714\n"
     ]
    },
    {
     "name": "stderr",
     "output_type": "stream",
     "text": [
      "                                                                                                                                                                                                                                                                                              "
     ]
    },
    {
     "name": "stdout",
     "output_type": "stream",
     "text": [
      "Validation loss improved. Resetting counter.\n",
      "[Epoch 12] Train Loss: 1.1060 | Val Loss: 1.1240 | Acc: 0.5646 | F1: 0.4201 | AUC: 0.7726\n"
     ]
    },
    {
     "name": "stderr",
     "output_type": "stream",
     "text": [
      "                                                                                                                                                                                                                                                                                              "
     ]
    },
    {
     "name": "stdout",
     "output_type": "stream",
     "text": [
      "No improvement. Patience 1/7\n",
      "[Epoch 13] Train Loss: 1.1020 | Val Loss: 1.1489 | Acc: 0.5558 | F1: 0.3914 | AUC: 0.7691\n"
     ]
    },
    {
     "name": "stderr",
     "output_type": "stream",
     "text": [
      "                                                                                                                                                                                                                                                                                              "
     ]
    },
    {
     "name": "stdout",
     "output_type": "stream",
     "text": [
      "No improvement. Patience 2/7\n",
      "[Epoch 14] Train Loss: 1.0993 | Val Loss: 1.1380 | Acc: 0.5579 | F1: 0.4081 | AUC: 0.7715\n"
     ]
    },
    {
     "name": "stderr",
     "output_type": "stream",
     "text": [
      "                                                                                                                                                                                                                                                                                              "
     ]
    },
    {
     "name": "stdout",
     "output_type": "stream",
     "text": [
      "No improvement. Patience 3/7\n",
      "[Epoch 15] Train Loss: 1.0972 | Val Loss: 1.1270 | Acc: 0.5611 | F1: 0.4149 | AUC: 0.7725\n"
     ]
    },
    {
     "name": "stderr",
     "output_type": "stream",
     "text": [
      "                                                                                                                                                                                                                                                                                              "
     ]
    },
    {
     "name": "stdout",
     "output_type": "stream",
     "text": [
      "No improvement. Patience 4/7\n",
      "[Epoch 16] Train Loss: 1.0950 | Val Loss: 1.1251 | Acc: 0.5670 | F1: 0.4214 | AUC: 0.7729\n"
     ]
    },
    {
     "name": "stderr",
     "output_type": "stream",
     "text": [
      "                                                                                                                                                                                                                                                                                              "
     ]
    },
    {
     "name": "stdout",
     "output_type": "stream",
     "text": [
      "Validation loss improved. Resetting counter.\n",
      "[Epoch 17] Train Loss: 1.0923 | Val Loss: 1.1156 | Acc: 0.5710 | F1: 0.4262 | AUC: 0.7758\n"
     ]
    },
    {
     "name": "stderr",
     "output_type": "stream",
     "text": [
      "                                                                                                                                                                                                                                                                                              "
     ]
    },
    {
     "name": "stdout",
     "output_type": "stream",
     "text": [
      "No improvement. Patience 1/7\n",
      "[Epoch 18] Train Loss: 1.0900 | Val Loss: 1.1173 | Acc: 0.5686 | F1: 0.4272 | AUC: 0.7766\n"
     ]
    },
    {
     "name": "stderr",
     "output_type": "stream",
     "text": [
      "                                                                                                                                                                                                                                                                                              "
     ]
    },
    {
     "name": "stdout",
     "output_type": "stream",
     "text": [
      "No improvement. Patience 2/7\n",
      "[Epoch 19] Train Loss: 1.0876 | Val Loss: 1.1200 | Acc: 0.5684 | F1: 0.4228 | AUC: 0.7755\n"
     ]
    },
    {
     "name": "stderr",
     "output_type": "stream",
     "text": [
      "                                                                                                                                                                                                                                                                                              "
     ]
    },
    {
     "name": "stdout",
     "output_type": "stream",
     "text": [
      "No improvement. Patience 3/7\n",
      "[Epoch 20] Train Loss: 1.0855 | Val Loss: 1.1331 | Acc: 0.5623 | F1: 0.4150 | AUC: 0.7727\n"
     ]
    },
    {
     "name": "stderr",
     "output_type": "stream",
     "text": [
      "                                                                                                                                                                                                                                                                                              "
     ]
    },
    {
     "name": "stdout",
     "output_type": "stream",
     "text": [
      "No improvement. Patience 4/7\n",
      "[Epoch 21] Train Loss: 1.0880 | Val Loss: 1.1169 | Acc: 0.5703 | F1: 0.4218 | AUC: 0.7755\n"
     ]
    },
    {
     "name": "stderr",
     "output_type": "stream",
     "text": [
      "                                                                                                                                                                                                                                                                                              "
     ]
    },
    {
     "name": "stdout",
     "output_type": "stream",
     "text": [
      "Validation loss improved. Resetting counter.\n",
      "[Epoch 22] Train Loss: 1.0834 | Val Loss: 1.1122 | Acc: 0.5705 | F1: 0.4284 | AUC: 0.7776\n"
     ]
    },
    {
     "name": "stderr",
     "output_type": "stream",
     "text": [
      "                                                                                                                                                                                                                                                                                              "
     ]
    },
    {
     "name": "stdout",
     "output_type": "stream",
     "text": [
      "No improvement. Patience 1/7\n",
      "[Epoch 23] Train Loss: 1.0804 | Val Loss: 1.1139 | Acc: 0.5679 | F1: 0.4293 | AUC: 0.7773\n"
     ]
    },
    {
     "name": "stderr",
     "output_type": "stream",
     "text": [
      "                                                                                                                                                                                                                                                                                              "
     ]
    },
    {
     "name": "stdout",
     "output_type": "stream",
     "text": [
      "No improvement. Patience 2/7\n",
      "[Epoch 24] Train Loss: 1.0758 | Val Loss: 1.1151 | Acc: 0.5726 | F1: 0.4334 | AUC: 0.7778\n"
     ]
    },
    {
     "name": "stderr",
     "output_type": "stream",
     "text": [
      "                                                                                                                                                                                                                                                                                              "
     ]
    },
    {
     "name": "stdout",
     "output_type": "stream",
     "text": [
      "No improvement. Patience 3/7\n",
      "[Epoch 25] Train Loss: 1.0800 | Val Loss: 1.1144 | Acc: 0.5696 | F1: 0.4291 | AUC: 0.7781\n"
     ]
    },
    {
     "name": "stderr",
     "output_type": "stream",
     "text": [
      "                                                                                                                                                                                                                                                                                              "
     ]
    },
    {
     "name": "stdout",
     "output_type": "stream",
     "text": [
      "Validation loss improved. Resetting counter.\n",
      "[Epoch 26] Train Loss: 1.0760 | Val Loss: 1.1079 | Acc: 0.5731 | F1: 0.4309 | AUC: 0.7793\n"
     ]
    },
    {
     "name": "stderr",
     "output_type": "stream",
     "text": [
      "                                                                                                                                                                                                                                                                                              "
     ]
    },
    {
     "name": "stdout",
     "output_type": "stream",
     "text": [
      "No improvement. Patience 1/7\n",
      "[Epoch 27] Train Loss: 1.0715 | Val Loss: 1.1082 | Acc: 0.5726 | F1: 0.4308 | AUC: 0.7789\n"
     ]
    },
    {
     "name": "stderr",
     "output_type": "stream",
     "text": [
      "                                                                                                                                                                                                                                                                                              "
     ]
    },
    {
     "name": "stdout",
     "output_type": "stream",
     "text": [
      "No improvement. Patience 2/7\n",
      "[Epoch 28] Train Loss: 1.0741 | Val Loss: 1.1143 | Acc: 0.5705 | F1: 0.4234 | AUC: 0.7789\n"
     ]
    },
    {
     "name": "stderr",
     "output_type": "stream",
     "text": [
      "                                                                                                                                                                                                                                                                                              "
     ]
    },
    {
     "name": "stdout",
     "output_type": "stream",
     "text": [
      "No improvement. Patience 3/7\n",
      "[Epoch 29] Train Loss: 1.0718 | Val Loss: 1.1176 | Acc: 0.5721 | F1: 0.4330 | AUC: 0.7783\n"
     ]
    },
    {
     "name": "stderr",
     "output_type": "stream",
     "text": [
      "                                                                                                                                                                                                                                                                                              "
     ]
    },
    {
     "name": "stdout",
     "output_type": "stream",
     "text": [
      "No improvement. Patience 4/7\n",
      "[Epoch 30] Train Loss: 1.0656 | Val Loss: 1.1156 | Acc: 0.5696 | F1: 0.4299 | AUC: 0.7786\n"
     ]
    },
    {
     "name": "stderr",
     "output_type": "stream",
     "text": [
      "                                                                                                                                                                                                                                                                                              "
     ]
    },
    {
     "name": "stdout",
     "output_type": "stream",
     "text": [
      "Validation loss improved. Resetting counter.\n",
      "[Epoch 31] Train Loss: 1.0673 | Val Loss: 1.1043 | Acc: 0.5749 | F1: 0.4341 | AUC: 0.7815\n"
     ]
    },
    {
     "name": "stderr",
     "output_type": "stream",
     "text": [
      "                                                                                                                                                                                                                                                                                              "
     ]
    },
    {
     "name": "stdout",
     "output_type": "stream",
     "text": [
      "No improvement. Patience 1/7\n",
      "[Epoch 32] Train Loss: 1.0641 | Val Loss: 1.1121 | Acc: 0.5703 | F1: 0.4310 | AUC: 0.7799\n"
     ]
    },
    {
     "name": "stderr",
     "output_type": "stream",
     "text": [
      "                                                                                                                                                                                                                                                                                              "
     ]
    },
    {
     "name": "stdout",
     "output_type": "stream",
     "text": [
      "No improvement. Patience 2/7\n",
      "[Epoch 33] Train Loss: 1.0631 | Val Loss: 1.1131 | Acc: 0.5731 | F1: 0.4322 | AUC: 0.7794\n"
     ]
    },
    {
     "name": "stderr",
     "output_type": "stream",
     "text": [
      "                                                                                                                                                                                                                                                                                              "
     ]
    },
    {
     "name": "stdout",
     "output_type": "stream",
     "text": [
      "No improvement. Patience 3/7\n",
      "[Epoch 34] Train Loss: 1.0633 | Val Loss: 1.1114 | Acc: 0.5677 | F1: 0.4270 | AUC: 0.7800\n"
     ]
    },
    {
     "name": "stderr",
     "output_type": "stream",
     "text": [
      "                                                                                                                                                                                                                                                                                              "
     ]
    },
    {
     "name": "stdout",
     "output_type": "stream",
     "text": [
      "No improvement. Patience 4/7\n",
      "[Epoch 35] Train Loss: 1.0616 | Val Loss: 1.1123 | Acc: 0.5721 | F1: 0.4312 | AUC: 0.7803\n"
     ]
    },
    {
     "name": "stderr",
     "output_type": "stream",
     "text": [
      "                                                                                                                                                                                                                                                                                              "
     ]
    },
    {
     "name": "stdout",
     "output_type": "stream",
     "text": [
      "Validation loss improved. Resetting counter.\n",
      "[Epoch 36] Train Loss: 1.0592 | Val Loss: 1.1042 | Acc: 0.5787 | F1: 0.4391 | AUC: 0.7812\n"
     ]
    },
    {
     "name": "stderr",
     "output_type": "stream",
     "text": [
      "                                                                                                                                                                                                                                                                                              "
     ]
    },
    {
     "name": "stdout",
     "output_type": "stream",
     "text": [
      "No improvement. Patience 1/7\n",
      "[Epoch 37] Train Loss: 1.0545 | Val Loss: 1.1062 | Acc: 0.5794 | F1: 0.4427 | AUC: 0.7818\n"
     ]
    },
    {
     "name": "stderr",
     "output_type": "stream",
     "text": [
      "                                                                                                                                                                                                                                                                                              "
     ]
    },
    {
     "name": "stdout",
     "output_type": "stream",
     "text": [
      "No improvement. Patience 2/7\n",
      "[Epoch 38] Train Loss: 1.0541 | Val Loss: 1.1127 | Acc: 0.5719 | F1: 0.4390 | AUC: 0.7808\n"
     ]
    },
    {
     "name": "stderr",
     "output_type": "stream",
     "text": [
      "                                                                                                                                                                                                                                                                                              "
     ]
    },
    {
     "name": "stdout",
     "output_type": "stream",
     "text": [
      "No improvement. Patience 3/7\n",
      "[Epoch 39] Train Loss: 1.0539 | Val Loss: 1.1066 | Acc: 0.5721 | F1: 0.4330 | AUC: 0.7810\n"
     ]
    },
    {
     "name": "stderr",
     "output_type": "stream",
     "text": [
      "                                                                                                                                                                                                                                                                                              "
     ]
    },
    {
     "name": "stdout",
     "output_type": "stream",
     "text": [
      "No improvement. Patience 4/7\n",
      "[Epoch 40] Train Loss: 1.0519 | Val Loss: 1.1074 | Acc: 0.5731 | F1: 0.4357 | AUC: 0.7816\n"
     ]
    },
    {
     "name": "stderr",
     "output_type": "stream",
     "text": [
      "                                                                                                                                                                                                                                                                                              "
     ]
    },
    {
     "name": "stdout",
     "output_type": "stream",
     "text": [
      "No improvement. Patience 5/7\n",
      "[Epoch 41] Train Loss: 1.0497 | Val Loss: 1.1077 | Acc: 0.5756 | F1: 0.4381 | AUC: 0.7806\n"
     ]
    },
    {
     "name": "stderr",
     "output_type": "stream",
     "text": [
      "                                                                                                                                                                                                                                                                                              "
     ]
    },
    {
     "name": "stdout",
     "output_type": "stream",
     "text": [
      "No improvement. Patience 6/7\n",
      "[Epoch 42] Train Loss: 1.0497 | Val Loss: 1.1099 | Acc: 0.5770 | F1: 0.4423 | AUC: 0.7812\n"
     ]
    },
    {
     "name": "stderr",
     "output_type": "stream",
     "text": [
      "                                                                                                                                                                                                                                                                                              "
     ]
    },
    {
     "name": "stdout",
     "output_type": "stream",
     "text": [
      "No improvement. Patience 7/7\n",
      "[Epoch 43] Train Loss: 1.0486 | Val Loss: 1.1085 | Acc: 0.5740 | F1: 0.4329 | AUC: 0.7810\n",
      "Early stopping triggered.\n"
     ]
    },
    {
     "name": "stderr",
     "output_type": "stream",
     "text": [
      "                                                                                                                                                                                                                                                                                              "
     ]
    },
    {
     "name": "stdout",
     "output_type": "stream",
     "text": [
      "\n",
      "[TEST] Loss: 1.0793 | Acc: 0.5917 | F1: 0.4538 | AUC: 0.7941\n"
     ]
    }
   ],
   "source": [
    "import torch\n",
    "import torch.nn as nn\n",
    "import torch.optim as optim\n",
    "import numpy as np\n",
    "import torch.nn.functional as F\n",
    "from torch.utils.data import Dataset, DataLoader, random_split\n",
    "from torch.utils.tensorboard import SummaryWriter\n",
    "from sklearn.metrics import accuracy_score, f1_score, roc_auc_score, classification_report\n",
    "from tqdm import tqdm\n",
    "import random\n",
    "\n",
    "def train(model, loader, criterion, optimizer, device):\n",
    "    model.train()\n",
    "    total_loss = 0\n",
    "    loop = tqdm(loader, desc=\"Training\", leave=False)\n",
    "    for x, y in loop:\n",
    "        x, y = x.to(device), y.to(device)\n",
    "        optimizer.zero_grad()\n",
    "        output = model(x)\n",
    "        loss = criterion(output, y.long())\n",
    "        loss.backward()\n",
    "        optimizer.step()\n",
    "        total_loss += loss.item() * x.size(0)\n",
    "        loop.set_postfix(loss=loss.item())\n",
    "    return total_loss / len(loader.dataset)\n",
    "\n",
    "\n",
    "# def evaluate(model, dataloader, criterion, device, num_classes):\n",
    "#     model.eval()\n",
    "#     running_loss = 0.0\n",
    "#     all_preds = []\n",
    "#     all_labels = []\n",
    "\n",
    "#     with torch.no_grad():\n",
    "#         for inputs, labels in dataloader:\n",
    "#             inputs = inputs.to(device)\n",
    "#             labels = labels.to(device)\n",
    "#             outputs = model(inputs)\n",
    "#             loss = criterion(outputs, labels.to(torch.long))\n",
    "#             running_loss += loss.item()\n",
    "\n",
    "#             preds = torch.argmax(outputs, dim=1)\n",
    "#             true_labels = labels  # one-hot → label index\n",
    "\n",
    "#             all_preds.extend(preds.cpu().numpy())\n",
    "#             all_labels.extend(true_labels.cpu().numpy())\n",
    "\n",
    "#     # ⬇️ 클래스별 정확도 / F1-score 계산\n",
    "#     report = classification_report(\n",
    "#         all_labels, all_preds,\n",
    "#         digits=4,\n",
    "#         output_dict=False  # True로 하면 dict 형태, False는 텍스트 출력\n",
    "#     )\n",
    "#     print(\"📊 Classification Report:\\n\", report)\n",
    "\n",
    "#     return running_loss / len(dataloader)\n",
    "\n",
    "def evaluate(model, loader, criterion, device, phase=\"Eval\"):\n",
    "    model.eval()\n",
    "    total_loss = 0\n",
    "    preds_all, targets_all = [], []\n",
    "    probs_all = []\n",
    "    loop = tqdm(loader, desc=phase, leave=False)\n",
    "    with torch.no_grad():\n",
    "        for x, y in loop:\n",
    "            x, y = x.to(device), y.to(device)\n",
    "            output = model(x)  # logits\n",
    "            loss = criterion(output, y.long())\n",
    "            total_loss += loss.item() * x.size(0)\n",
    "            preds_all.append(output.cpu())\n",
    "            targets_all.append(y.cpu())\n",
    "            probs_all.append(torch.softmax(output, dim=1).cpu())\n",
    "            loop.set_postfix(loss=loss.item())\n",
    "    preds = torch.cat(preds_all).argmax(dim=1)\n",
    "    targets = torch.cat(targets_all)\n",
    "    probs = torch.cat(probs_all)\n",
    "    \n",
    "    acc = accuracy_score(targets, preds)\n",
    "    f1 = f1_score(targets, preds, average='macro')\n",
    "    \n",
    "    try:\n",
    "        auc = roc_auc_score(torch.cat(targets_all), probs, multi_class='ovr')\n",
    "    except ValueError:\n",
    "        auc = float('nan')  # 클래스가 하나만 나왔을 경우 등\n",
    "    \n",
    "    return total_loss / len(loader.dataset), acc, f1, auc\n",
    "\n",
    "def load_ecg_leads(prefix, type, num_leads=12, window_size = 10):\n",
    "        leads = []\n",
    "        for i in range(1, num_leads + 1):\n",
    "            lead = np.load(f\"{prefix}lead{i}_{type}.npy\")  # e.g., lead1_train.npy\n",
    "            lead = lead.reshape(-1, window_size * 128)\n",
    "            leads.append(lead)\n",
    "        return np.stack(leads, axis=1)  # shape: (N, 12, 1280)\n",
    "\n",
    "class EarlyStopping:\n",
    "    def __init__(self, patience=5, verbose=True, delta=0.0):\n",
    "        self.patience = patience\n",
    "        self.verbose = verbose\n",
    "        self.delta = delta\n",
    "        self.best_loss = float('inf')\n",
    "        self.counter = 0\n",
    "        self.early_stop = False\n",
    "        self.best_model_state = None\n",
    "\n",
    "    def __call__(self, val_loss, model):\n",
    "        if val_loss < self.best_loss - self.delta:\n",
    "            self.best_loss = val_loss\n",
    "            self.counter = 0\n",
    "            self.best_model_state = model.state_dict()\n",
    "            if self.verbose:\n",
    "                print(f\"Validation loss improved. Resetting counter.\")\n",
    "        else:\n",
    "            self.counter += 1\n",
    "            if self.verbose:\n",
    "                print(f\"No improvement. Patience {self.counter}/{self.patience}\")\n",
    "            if self.counter >= self.patience:\n",
    "                self.early_stop = True\n",
    "\n",
    "def set_seed(seed=42):\n",
    "    random.seed(seed)\n",
    "    np.random.seed(seed)\n",
    "    torch.manual_seed(seed)\n",
    "    torch.cuda.manual_seed_all(seed)  # GPU용 시드\n",
    "\n",
    "    # CuDNN 관련 설정 (완전한 재현성 위해)\n",
    "    torch.backends.cudnn.deterministic = True\n",
    "    torch.backends.cudnn.benchmark = False\n",
    "\n",
    "set_seed(42)\n",
    "\n",
    "# 4. 실행\n",
    "def main():\n",
    "    device = torch.device(\"cuda\" if torch.cuda.is_available() else \"cpu\")\n",
    "    \n",
    "    # 데이터 로드\n",
    "    # path = \"./single_label/\"\n",
    "    # x_train = load_ecg_leads(path, \"train\")\n",
    "    # x_test = load_ecg_leads(path, \"test\")\n",
    "    # y_train = np.load(path + \"y_train.npy\")\n",
    "    # y_test = np.load(path + \"y_test.npy\")\n",
    "    # num_classes = y_train.shape[1]\n",
    "\n",
    "    # Dataset 구성\n",
    "    # full_train = ECGDataset(x_train, y_train)\n",
    "    # val_size = int(0.2 * len(full_train))\n",
    "    # train_size = len(full_train) - val_size\n",
    "    # train_dataset, val_dataset = random_split(full_train, [train_size, val_size])\n",
    "    # test_dataset = ECGDataset(x_test, y_test)\n",
    "    # g = torch.Generator()\n",
    "    # g.manual_seed(42)\n",
    "    # batch_size = 128\n",
    "    # train_loader = DataLoader(train_dataset, batch_size=batch_size, shuffle=True, generator=g)\n",
    "    # val_loader = DataLoader(val_dataset, batch_size=batch_size)\n",
    "    # test_loader = DataLoader(test_dataset, batch_size=batch_size)\n",
    "\n",
    "    \n",
    "    criterion = nn.CrossEntropyLoss()\n",
    "\n",
    "\n",
    "    # 모델, 손실함수, 옵티마이저\n",
    "    model = ECG_CNN(num_classes=5).to(device)\n",
    "    criterion = nn.CrossEntropyLoss()\n",
    "    optimizer = optim.Adam(model.parameters(), lr=1e-4)\n",
    "\n",
    "    # TensorBoard\n",
    "    writer = SummaryWriter(log_dir=\"runs/exp4\")\n",
    "\n",
    "    early_stopper = EarlyStopping(patience=7)\n",
    "\n",
    "    # 학습 루프\n",
    "    for epoch in range(1, 51):\n",
    "        train_loss = train(model, train_loader, criterion, optimizer, device)\n",
    "        val_loss, val_acc, val_f1, val_auc = evaluate(model, val_loader, criterion, device, phase='Val')\n",
    "        early_stopper(val_loss, model)\n",
    "        print(f\"[Epoch {epoch}] Train Loss: {train_loss:.4f} | Val Loss: {val_loss:.4f} | Acc: {val_acc:.4f} | F1: {val_f1:.4f} | AUC: {val_auc:.4f}\")\n",
    "        writer.add_scalar(\"AUC/val\", val_auc, epoch)\n",
    "        writer.add_scalar(\"Loss/train\", train_loss, epoch)\n",
    "        writer.add_scalar(\"Loss/val\", val_loss, epoch)\n",
    "        writer.add_scalar(\"Accuracy/val\", val_acc, epoch)\n",
    "        writer.add_scalar(\"F1/val\", val_f1, epoch)\n",
    "        if early_stopper.early_stop:\n",
    "            print(\"Early stopping triggered.\")\n",
    "            break\n",
    "    \n",
    "    torch.save(early_stopper.best_model_state, 'best_model.pt')\n",
    "    # # 테스트 평가\n",
    "    model.load_state_dict(early_stopper.best_model_state)\n",
    "    # 나중에 불러오기 (inference 시점)\n",
    "    \n",
    "    model = ECG_CNN(num_classes=5).to(device)\n",
    "    model.load_state_dict(torch.load('best_model.pt'))\n",
    "    test_loss, test_acc, test_f1, test_auc = evaluate(model, test_loader, criterion, device)\n",
    "    print(f\"\\n[TEST] Loss: {test_loss:.4f} | Acc: {test_acc:.4f} | F1: {test_f1:.4f} | AUC: {test_auc:.4f}\")\n",
    "\n",
    "\n",
    "    # writer.close()\n",
    "\n",
    "\n",
    "if __name__ == \"__main__\":\n",
    "    main()"
   ]
  }
 ],
 "metadata": {
  "kernelspec": {
   "display_name": "Python 3 (ipykernel)",
   "language": "python",
   "name": "python3"
  },
  "language_info": {
   "codemirror_mode": {
    "name": "ipython",
    "version": 3
   },
   "file_extension": ".py",
   "mimetype": "text/x-python",
   "name": "python",
   "nbconvert_exporter": "python",
   "pygments_lexer": "ipython3",
   "version": "3.10.8"
  }
 },
 "nbformat": 4,
 "nbformat_minor": 5
}
